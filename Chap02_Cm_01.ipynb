{
  "nbformat": 4,
  "nbformat_minor": 0,
  "metadata": {
    "colab": {
      "provenance": [],
      "authorship_tag": "ABX9TyNaGoqh4e1gXRMzIv40JS4X",
      "include_colab_link": true
    },
    "kernelspec": {
      "name": "python3",
      "display_name": "Python 3"
    },
    "language_info": {
      "name": "python"
    }
  },
  "cells": [
    {
      "cell_type": "markdown",
      "metadata": {
        "id": "view-in-github",
        "colab_type": "text"
      },
      "source": [
        "<a href=\"https://colab.research.google.com/github/Mina0402/EU_M_Math-Repository/blob/main/Chap02_Cm_01.ipynb\" target=\"_parent\"><img src=\"https://colab.research.google.com/assets/colab-badge.svg\" alt=\"Open In Colab\"/></a>"
      ]
    },
    {
      "cell_type": "code",
      "execution_count": null,
      "metadata": {
        "colab": {
          "base_uri": "https://localhost:8080/"
        },
        "id": "UlzQ7-2cRsKl",
        "outputId": "6e02a841-f064-4b65-fef7-5e0bc57b10b7"
      },
      "outputs": [
        {
          "output_type": "stream",
          "name": "stdout",
          "text": [
            "[0.78474108 0.16063667 0.79272788 ... 0.83769581 0.54931995 0.563246  ]\n",
            "[0.11210966 0.39838779 0.39647314 ... 0.96570181 0.03820575 0.51354641]\n"
          ]
        }
      ],
      "source": [
        "import numpy as np\n",
        "%matplotlib inline\n",
        "import matplotlib as mp\n",
        "import seaborn as sns\n",
        "\n",
        "random_set1=np.random.uniform(0.0,1.0,10000)\n",
        "random_set2=np.random.uniform(0.0,1.0,10000)\n",
        "\n",
        "print(random_set1)\n",
        "print(random_set2)"
      ]
    }
  ]
}