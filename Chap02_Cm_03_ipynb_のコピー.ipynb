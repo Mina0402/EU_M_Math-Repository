{
  "nbformat": 4,
  "nbformat_minor": 0,
  "metadata": {
    "colab": {
      "provenance": [],
      "authorship_tag": "ABX9TyMN3FAwpWzb1cVxSaeUCxea",
      "include_colab_link": true
    },
    "kernelspec": {
      "name": "python3",
      "display_name": "Python 3"
    },
    "language_info": {
      "name": "python"
    }
  },
  "cells": [
    {
      "cell_type": "markdown",
      "metadata": {
        "id": "view-in-github",
        "colab_type": "text"
      },
      "source": [
        "<a href=\"https://colab.research.google.com/github/Mina0402/EU_M_Math-Repository/blob/main/Chap02_Cm_03_ipynb_%E3%81%AE%E3%82%B3%E3%83%94%E3%83%BC.ipynb\" target=\"_parent\"><img src=\"https://colab.research.google.com/assets/colab-badge.svg\" alt=\"Open In Colab\"/></a>"
      ]
    },
    {
      "cell_type": "code",
      "execution_count": null,
      "metadata": {
        "colab": {
          "base_uri": "https://localhost:8080/"
        },
        "id": "UlzQ7-2cRsKl",
        "outputId": "78e77732-b446-4068-9255-97aadf03b69d"
      },
      "outputs": [
        {
          "output_type": "stream",
          "name": "stdout",
          "text": [
            "円周率は 3.1444\n"
          ]
        }
      ],
      "source": [
        "import numpy as np\n",
        "%matplotlib inline\n",
        "import matplotlib.pyplot as plt\n",
        "import seaborn as sns\n",
        "\n",
        "random_set1=np.random.uniform(0.0,1.0,10000)\n",
        "random_set2=np.random.uniform(0.0,1.0,10000)\n",
        "\n",
        "inside_circle=(random_set1**2+random_set2**2)<1\n",
        "number_inside_circle=np.sum(inside_circle)\n",
        "\n",
        "inside_x = random_set1[inside_circle]\n",
        "inside_y = random_set2[inside_circle]\n",
        "outside_x = random_set1[~inside_circle]\n",
        "outside_y = random_set2[~inside_circle]\n",
        "\n",
        "pi_approximation = (number_inside_circle/10000)*4\n",
        "print(\"円周率は\",pi_approximation)\n"
      ]
    }
  ]
}