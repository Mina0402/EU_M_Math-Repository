{
  "nbformat": 4,
  "nbformat_minor": 0,
  "metadata": {
    "colab": {
      "provenance": [],
      "authorship_tag": "ABX9TyNOEva8qIoY3Muir4QAYGCw",
      "include_colab_link": true
    },
    "kernelspec": {
      "name": "python3",
      "display_name": "Python 3"
    },
    "language_info": {
      "name": "python"
    }
  },
  "cells": [
    {
      "cell_type": "markdown",
      "metadata": {
        "id": "view-in-github",
        "colab_type": "text"
      },
      "source": [
        "<a href=\"https://colab.research.google.com/github/Mina0402/EU_M_Math-Repository/blob/main/Chap01_Cm_02.ipynb\" target=\"_parent\"><img src=\"https://colab.research.google.com/assets/colab-badge.svg\" alt=\"Open In Colab\"/></a>"
      ]
    },
    {
      "cell_type": "code",
      "execution_count": null,
      "metadata": {
        "id": "ouVVkyBKv3i_"
      },
      "outputs": [],
      "source": [
        "def num_prime(N:int):\n",
        "    if N <=1:\n",
        "      return 0\n",
        "    for x in range(2, int(N-1)):\n",
        "      if N % x ==0:\n",
        "        return 0\n",
        "    return 1\n",
        "\n",
        "for i in range(N):\n",
        "    if num_prime(i):\n",
        "      print (i)\n",
        "\n"
      ]
    }
  ]
}