{
  "nbformat": 4,
  "nbformat_minor": 0,
  "metadata": {
    "colab": {
      "provenance": [],
      "authorship_tag": "ABX9TyMfHzk5qUwnpc0NUQGEYi3v",
      "include_colab_link": true
    },
    "kernelspec": {
      "name": "python3",
      "display_name": "Python 3"
    },
    "language_info": {
      "name": "python"
    }
  },
  "cells": [
    {
      "cell_type": "markdown",
      "metadata": {
        "id": "view-in-github",
        "colab_type": "text"
      },
      "source": [
        "<a href=\"https://colab.research.google.com/github/Mina0402/EU_M_Math-Repository/blob/main/Chap01_Cm_01.ipynb\" target=\"_parent\"><img src=\"https://colab.research.google.com/assets/colab-badge.svg\" alt=\"Open In Colab\"/></a>"
      ]
    },
    {
      "cell_type": "code",
      "execution_count": null,
      "metadata": {
        "id": "Xz2-OHT2vLsY"
      },
      "outputs": [],
      "source": [
        "def num_prime(n:int):\n",
        "    if n <=1:\n",
        "      return 0\n",
        "    for x in range(2, int(n-1)):\n",
        "      if n % x ==0:\n",
        "        return 0\n",
        "    return 1\n",
        "\n",
        "for i in range(10):\n",
        "  if num_prime(i):\n",
        "      print(i)"
      ]
    }
  ]
}